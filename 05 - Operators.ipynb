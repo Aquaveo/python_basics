{
 "cells": [
  {
   "cell_type": "markdown",
   "id": "104680ba",
   "metadata": {},
   "source": [
    "# Operators\n",
    "\n",
    "Operators are one or more characters that can be used to perform operations on data. For example the `+` character is used to perform the addition operation between two numbers. \n",
    "\n",
    "\n",
    "## Arithmetic Operators\n",
    "\n",
    "Arithmetic operators are used to perform mathematical calculations. Here's a list of arithmetic operators that are supported in Python\n",
    "\n",
    "| Operator | Function       | Syntax |\n",
    "| -------- | -------------- | ------ |\n",
    "| +        | Addition       | a + b  |\n",
    "| -        | Subtraction    | a - b  |\n",
    "| *        | Multiplication | a * b  |\n",
    "| /        | Division       | a / b  |\n",
    "| //       | Floor Division | a // b |\n",
    "| %        | Modulo         | a % b  |\n",
    "| **       | Power          | a ** b |"
   ]
  },
  {
   "cell_type": "code",
   "execution_count": null,
   "id": "aa706c08",
   "metadata": {},
   "outputs": [],
   "source": [
    "a = 10\n",
    "b = 4\n",
    "\n",
    "# Addition\n",
    "print(f'{ a } + { b } = {a + b}')\n",
    "\n",
    "# Subtraction\n",
    "print(f'{ a } - { b } = {a - b}')\n",
    "\n",
    "# Multiplication\n",
    "print(f'{ a } * { b } = {a * b}')\n",
    "\n",
    "# Division\n",
    "print(f'{ a } / { b } = {a / b}')\n",
    "\n",
    "# Floor Division\n",
    "print(f'{ a } // { b } = {a // b}')\n",
    "\n",
    "# Modulo\n",
    "print(f'{ a } % { b } = {a % b}')\n",
    "\n",
    "# Power\n",
    "print(f'{ a } ** { b } = {a ** b}')"
   ]
  },
  {
   "cell_type": "markdown",
   "id": "ba468cff",
   "metadata": {},
   "source": [
    "## String Operators\n",
    "\n",
    "Some operators work differently on different types of data. For strings, the `+` operator will concatenate two strings together:"
   ]
  },
  {
   "cell_type": "code",
   "execution_count": null,
   "id": "198d7b36",
   "metadata": {},
   "outputs": [],
   "source": [
    "line_1 = 'Good night! Good night! '  # <-- Note the space at the end of this string\n",
    "line_2 = 'Parting is such sweet sorrow.'\n",
    "\n",
    "# Concatenate two strings using the + operator\n",
    "combined = line_1 + line_2\n",
    "\n",
    "print(combined)"
   ]
  },
  {
   "cell_type": "markdown",
   "id": "f59462af",
   "metadata": {},
   "source": [
    "The `*` operator can be used to duplicate a string and concatinate the results:"
   ]
  },
  {
   "cell_type": "code",
   "execution_count": null,
   "id": "5825ef3f",
   "metadata": {},
   "outputs": [],
   "source": [
    "hello = 'Hello! ' * 5\n",
    "\n",
    "print(hello)"
   ]
  },
  {
   "cell_type": "markdown",
   "id": "f5bb452d",
   "metadata": {},
   "source": [
    "Other operators won't work on strings, however, because the behavoir is not well defined. What would dividing one string by another produce? Power?"
   ]
  },
  {
   "cell_type": "markdown",
   "id": "08a19f59",
   "metadata": {},
   "source": [
    "## List Operators\n",
    "\n",
    "Similar to strings, the `+` operator can be used to combine two lists:"
   ]
  },
  {
   "cell_type": "code",
   "execution_count": null,
   "id": "acf4618d",
   "metadata": {},
   "outputs": [],
   "source": [
    "list_a = ['A', 'B', 'C']\n",
    "list_b = ['D', 'E', 'F']\n",
    "\n",
    "combined = list_a + list_b\n",
    "\n",
    "print(combined)"
   ]
  },
  {
   "cell_type": "markdown",
   "id": "6f9bdc4d",
   "metadata": {},
   "source": [
    "The `*` operator can also be used with lists to duplicate the contents of a list many times:"
   ]
  },
  {
   "cell_type": "code",
   "execution_count": null,
   "id": "ba45a288",
   "metadata": {},
   "outputs": [],
   "source": [
    "repeating_pattern = [1, 2, 3] * 3\n",
    "\n",
    "print(repeating_pattern)"
   ]
  },
  {
   "cell_type": "markdown",
   "id": "96855344",
   "metadata": {},
   "source": [
    "# Exercise"
   ]
  },
  {
   "cell_type": "code",
   "execution_count": null,
   "id": "f8c4e44f",
   "metadata": {},
   "outputs": [],
   "source": []
  }
 ],
 "metadata": {
  "kernelspec": {
   "display_name": "Python 3 (ipykernel)",
   "language": "python",
   "name": "python3"
  },
  "language_info": {
   "codemirror_mode": {
    "name": "ipython",
    "version": 3
   },
   "file_extension": ".py",
   "mimetype": "text/x-python",
   "name": "python",
   "nbconvert_exporter": "python",
   "pygments_lexer": "ipython3",
   "version": "3.8.11"
  }
 },
 "nbformat": 4,
 "nbformat_minor": 5
}
