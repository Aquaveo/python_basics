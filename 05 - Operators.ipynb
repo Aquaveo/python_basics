{
 "cells": [
  {
   "cell_type": "markdown",
   "id": "72aefa45",
   "metadata": {},
   "source": [
    "# Operators\n",
    "\n",
    "Operators are one or more characters that can be used to perform operations on data. For example the `+` character is used to perform the addition operation between two numbers. \n",
    "\n",
    "\n",
    "## Arithmetic Operators\n",
    "\n",
    "Arithmetic operators are used to perform mathematical calculations. Here's a list of arithmetic operators that are supported in Python\n",
    "\n",
    "| Operator | Function       | Syntax |\n",
    "| -------- | -------------- | ------ |\n",
    "| +        | Addition       | a + b  |\n",
    "| -        | Subtraction    | a - b  |\n",
    "| *        | Multiplication | a * b  |\n",
    "| /        | Division       | a / b  |\n",
    "| //       | Floor Division | a // b |\n",
    "| %        | Modulo         | a % b  |\n",
    "| **       | Power          | a ** b |"
   ]
  },
  {
   "cell_type": "code",
   "execution_count": null,
   "id": "0073021d",
   "metadata": {},
   "outputs": [],
   "source": [
    "a = 10\n",
    "b = 4\n",
    "\n",
    "# Addition\n",
    "print(f'{ a } + { b } = {a + b}')\n",
    "\n",
    "# Subtraction\n",
    "print(f'{ a } - { b } = {a - b}')\n",
    "\n",
    "# Multiplication\n",
    "print(f'{ a } * { b } = {a * b}')\n",
    "\n",
    "# Division\n",
    "print(f'{ a } / { b } = {a / b}')\n",
    "\n",
    "# Floor Division\n",
    "print(f'{ a } // { b } = {a // b}')\n",
    "\n",
    "# Modulo\n",
    "print(f'{ a } % { b } = {a % b}')\n",
    "\n",
    "# Power\n",
    "print(f'{ a } ** { b } = {a ** b}')"
   ]
  },
  {
   "cell_type": "markdown",
   "id": "a52b9c31",
   "metadata": {},
   "source": [
    "## String Operators\n",
    "\n",
    "Some operators work differently on different types of data. For strings, the `+` operator will concatenate two strings together:"
   ]
  },
  {
   "cell_type": "code",
   "execution_count": null,
   "id": "2064eb0d",
   "metadata": {},
   "outputs": [],
   "source": [
    "line_1 = 'Good night! Good night! '  # <-- Note the space at the end of this string\n",
    "line_2 = 'Parting is such sweet sorrow.'\n",
    "\n",
    "# Concatenate two strings using the + operator\n",
    "combined = line_1 + line_2\n",
    "\n",
    "print(combined)"
   ]
  },
  {
   "cell_type": "markdown",
   "id": "3543c961",
   "metadata": {},
   "source": [
    "The `*` operator can be used to duplicate a string and concatinate the results:"
   ]
  },
  {
   "cell_type": "code",
   "execution_count": null,
   "id": "ae111322",
   "metadata": {},
   "outputs": [],
   "source": [
    "hello = 'Hello! ' * 5\n",
    "\n",
    "print(hello)"
   ]
  },
  {
   "cell_type": "markdown",
   "id": "e90bd8c5",
   "metadata": {},
   "source": [
    "Other operators won't work on strings, however, because the behavoir is not well defined. What would dividing one string by another produce? Power?"
   ]
  },
  {
   "cell_type": "markdown",
   "id": "c31b3d48",
   "metadata": {},
   "source": [
    "## List Operators\n",
    "\n",
    "Similar to strings, the `+` operator can be used to combine two lists:"
   ]
  },
  {
   "cell_type": "code",
   "execution_count": null,
   "id": "5e6d7167",
   "metadata": {},
   "outputs": [],
   "source": [
    "list_a = ['A', 'B', 'C']\n",
    "list_b = ['D', 'E', 'F']\n",
    "\n",
    "combined = list_a + list_b\n",
    "\n",
    "print(combined)"
   ]
  },
  {
   "cell_type": "markdown",
   "id": "bd91f4d5",
   "metadata": {},
   "source": [
    "The `*` operator can also be used with lists to duplicate the contents of a list many times:"
   ]
  },
  {
   "cell_type": "code",
   "execution_count": null,
   "id": "844cd47a",
   "metadata": {},
   "outputs": [],
   "source": [
    "repeating_pattern = [1, 2, 3] * 3\n",
    "\n",
    "print(repeating_pattern)"
   ]
  },
  {
   "cell_type": "markdown",
   "id": "6ecf76ba",
   "metadata": {},
   "source": [
    "# Exercise\n",
    "\n",
    "The equation of a line is: \n",
    "\n",
    "\\begin{equation}\n",
    "\\label{eq:sedov}\n",
    "y = mx + b\n",
    "\\end{equation}\n",
    "\n",
    "Use the arithmetic operators to calculate y given the following values for m, x, and b."
   ]
  },
  {
   "cell_type": "code",
   "execution_count": null,
   "id": "358a1bf6",
   "metadata": {},
   "outputs": [],
   "source": [
    "# Given\n",
    "m = 5\n",
    "x = 10\n",
    "b = 2\n",
    "\n",
    "# Write your code here\n",
    "y = None\n",
    "\n",
    "# This code checks your code\n",
    "if y != 52:\n",
    "    print(f\"I'm sorry, {y} is not the correct answer!\")\n",
    "else:\n",
    "    print(f\"{y} is correct!\")"
   ]
  },
  {
   "cell_type": "markdown",
   "id": "2ae5f838",
   "metadata": {},
   "source": [
    "Given the following equation:\n",
    "\n",
    "\\begin{equation}\n",
    "\\label{eq:sedov}\n",
    "c = \\left(a^2 + b^2\\right)^{0.5}\n",
    "\\end{equation}\n",
    "\n",
    "\n",
    "Write the code to calcuate `c` given `a` and `b`"
   ]
  },
  {
   "cell_type": "code",
   "execution_count": null,
   "id": "b30f1fab",
   "metadata": {},
   "outputs": [],
   "source": [
    "# Given\n",
    "a = 4\n",
    "b = 3\n",
    "\n",
    "# Write your code here\n",
    "c = None\n",
    "\n",
    "# This code checks your code\n",
    "if c != 5.0:\n",
    "    print(f\"I'm sorry, {c} is not the correct answer!\")\n",
    "else:\n",
    "    print(f\"{c} is correct!\")"
   ]
  }
 ],
 "metadata": {
  "kernelspec": {
   "display_name": "Python 3 (ipykernel)",
   "language": "python",
   "name": "python3"
  },
  "language_info": {
   "codemirror_mode": {
    "name": "ipython",
    "version": 3
   },
   "file_extension": ".py",
   "mimetype": "text/x-python",
   "name": "python",
   "nbconvert_exporter": "python",
   "pygments_lexer": "ipython3",
   "version": "3.8.11"
  }
 },
 "nbformat": 4,
 "nbformat_minor": 5
}
