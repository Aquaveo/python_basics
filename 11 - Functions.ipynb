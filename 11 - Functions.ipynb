{
 "cells": [
  {
   "cell_type": "markdown",
   "id": "44f0a20d",
   "metadata": {},
   "source": [
    "# Functions\n",
    "\n",
    "Functions are a way group and organize your code. Splitting your code into functions can make it more easy to follow and more reusable. Here is an example of a function that will add two numbers:"
   ]
  },
  {
   "cell_type": "code",
   "execution_count": 2,
   "id": "467d0bce",
   "metadata": {},
   "outputs": [
    {
     "name": "stdout",
     "output_type": "stream",
     "text": [
      "2\n"
     ]
    }
   ],
   "source": [
    "def add(a, b):\n",
    "    \"\"\"Add two numbers.\"\"\"\n",
    "    sum = a + b\n",
    "    return sum\n",
    "\n",
    "result = add(1, 1)\n",
    "\n",
    "print(result)"
   ]
  },
  {
   "cell_type": "markdown",
   "id": "ff272172",
   "metadata": {},
   "source": [
    "The `add` function defined above provides an example of all of the major parts of a function in Python:\n",
    "\n",
    "* `def`: the keyword that is used to tell Python you are about to define a function.\n",
    "* `add`: the name of the function.\n",
    "* `(a, b)`: arguments of the function, variables that are used to pass values into the function.\n",
    "* `:`: the definition line of a function should always end with a `:`, don't forget it!\n",
    "* `\"\"\"Add two numbers.\"\"\"`: The documentation or doc string that describes the function, not required but a good idea.\n",
    "* `sum = a + b`: the logic of the function. Functions can have as many lines of logic as are needed.\n",
    "* `return`: A keyword that is used to return a value from the function.\n",
    "\n",
    "Functions are not required to have arguments or return a value:"
   ]
  },
  {
   "cell_type": "code",
   "execution_count": null,
   "id": "3b75d7db",
   "metadata": {},
   "outputs": [],
   "source": []
  },
  {
   "cell_type": "markdown",
   "id": "54060527",
   "metadata": {},
   "source": []
  },
  {
   "cell_type": "code",
   "execution_count": null,
   "id": "ec4c3dcf",
   "metadata": {},
   "outputs": [],
   "source": []
  },
  {
   "cell_type": "markdown",
   "id": "042feabb",
   "metadata": {},
   "source": []
  },
  {
   "cell_type": "code",
   "execution_count": null,
   "id": "75540add",
   "metadata": {},
   "outputs": [],
   "source": []
  },
  {
   "cell_type": "markdown",
   "id": "c91df250",
   "metadata": {},
   "source": []
  },
  {
   "cell_type": "code",
   "execution_count": null,
   "id": "1919be62",
   "metadata": {},
   "outputs": [],
   "source": []
  },
  {
   "cell_type": "markdown",
   "id": "c92a6469",
   "metadata": {},
   "source": []
  },
  {
   "cell_type": "code",
   "execution_count": null,
   "id": "bfc2628a",
   "metadata": {},
   "outputs": [],
   "source": []
  },
  {
   "cell_type": "markdown",
   "id": "171759dc",
   "metadata": {},
   "source": []
  },
  {
   "cell_type": "code",
   "execution_count": null,
   "id": "1a2aa60d",
   "metadata": {},
   "outputs": [],
   "source": []
  },
  {
   "cell_type": "markdown",
   "id": "636826cc",
   "metadata": {},
   "source": []
  },
  {
   "cell_type": "code",
   "execution_count": null,
   "id": "9d1e4b82",
   "metadata": {},
   "outputs": [],
   "source": []
  },
  {
   "cell_type": "markdown",
   "id": "e015b4f5",
   "metadata": {},
   "source": []
  },
  {
   "cell_type": "code",
   "execution_count": null,
   "id": "563278bc",
   "metadata": {},
   "outputs": [],
   "source": []
  },
  {
   "cell_type": "markdown",
   "id": "67d5dda3",
   "metadata": {},
   "source": []
  },
  {
   "cell_type": "code",
   "execution_count": null,
   "id": "3d212a9d",
   "metadata": {},
   "outputs": [],
   "source": []
  },
  {
   "cell_type": "markdown",
   "id": "ffefd458",
   "metadata": {},
   "source": []
  },
  {
   "cell_type": "code",
   "execution_count": null,
   "id": "a486543d",
   "metadata": {},
   "outputs": [],
   "source": []
  },
  {
   "cell_type": "markdown",
   "id": "e7bd0104",
   "metadata": {},
   "source": []
  }
 ],
 "metadata": {
  "kernelspec": {
   "display_name": "Python 3 (ipykernel)",
   "language": "python",
   "name": "python3"
  },
  "language_info": {
   "codemirror_mode": {
    "name": "ipython",
    "version": 3
   },
   "file_extension": ".py",
   "mimetype": "text/x-python",
   "name": "python",
   "nbconvert_exporter": "python",
   "pygments_lexer": "ipython3",
   "version": "3.8.11"
  }
 },
 "nbformat": 4,
 "nbformat_minor": 5
}
