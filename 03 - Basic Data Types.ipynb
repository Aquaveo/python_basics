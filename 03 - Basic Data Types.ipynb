{
 "cells": [
  {
   "cell_type": "markdown",
   "id": "43117e6c",
   "metadata": {},
   "source": [
    "# Basic Data Types\n",
    "\n",
    "A **variable** can be thought of as a container for storing data. There are different types of data that variables can store. In some programming langauges it is necessary to declare whate type of data a variable will hold. Python is **duck typed** meaning the type of a variable is automatically determined based on the value you assign to it. \n",
    "\n",
    "Python includes a built-in function called `type` that can be used to determine the type of data that is stored in a variable. This tutorial will introduce you to three basic data types supported in Python: numbers, booleans, strings.\n",
    "\n",
    "## Assignment\n",
    "\n",
    "The `=` character, the assignment operator, is used to assign values to variables like so:\n",
    "\n",
    "```\n",
    "<variable_name> = <value>\n",
    "```\n"
   ]
  },
  {
   "cell_type": "code",
   "execution_count": 6,
   "id": "af19dc7a",
   "metadata": {},
   "outputs": [],
   "source": [
    "# Assign values to variables using the assignment operator: \"=\"\n",
    "age = 25"
   ]
  },
  {
   "cell_type": "markdown",
   "id": "178d02ab",
   "metadata": {},
   "source": [
    "## Numbers\n",
    "\n",
    "Python supports two different types of numbers: integers and floating point numbers.\n",
    "\n",
    "### Integers\n",
    "\n",
    "Integer or `int` variables are used to store whole number data such as the number of fish in a lake or the year of the last global pandemic. Create a variable containing an integer number by assigning a whole number to it:"
   ]
  },
  {
   "cell_type": "code",
   "execution_count": 1,
   "id": "1453ee75",
   "metadata": {},
   "outputs": [
    {
     "name": "stdout",
     "output_type": "stream",
     "text": [
      "Value: 2021\n",
      "Type: <class 'int'>\n"
     ]
    }
   ],
   "source": [
    "# integer\n",
    "covid_start = 2019\n",
    "\n",
    "# note: we'll talk about this strange f'' syntax in a future tutorial, so don't stress it\n",
    "print(f'Value: {covid_start}')\n",
    "print(f'Type: {type(covid_start)}')"
   ]
  },
  {
   "cell_type": "markdown",
   "id": "92248820",
   "metadata": {},
   "source": [
    "### Floating Point Numbers\n",
    "\n",
    "Floating point or `float` variables are used to store numbers with decimal points such as the number pi or the current temperature. Create a variable containing a floating point number by assigning a decimal number to it:"
   ]
  },
  {
   "cell_type": "code",
   "execution_count": 2,
   "id": "3102cd44",
   "metadata": {},
   "outputs": [
    {
     "name": "stdout",
     "output_type": "stream",
     "text": [
      "Value: 15.0\n",
      "Type: <class 'float'>\n"
     ]
    }
   ],
   "source": [
    "# floating point number\n",
    "pi = 3.14159265359\n",
    "print(f'Value: {pi}')\n",
    "print(f'Type: {type(pi)}')"
   ]
  },
  {
   "cell_type": "markdown",
   "id": "415e79d6",
   "metadata": {},
   "source": []
  },
  {
   "cell_type": "code",
   "execution_count": 3,
   "id": "174959d3",
   "metadata": {},
   "outputs": [
    {
     "name": "stdout",
     "output_type": "stream",
     "text": [
      "Value: True\n",
      "Type: <class 'bool'>\n",
      "Value: False\n",
      "Type: <class 'bool'>\n"
     ]
    }
   ],
   "source": [
    "# boolean\n",
    "my_bool = True\n",
    "my_other_bool = False\n",
    "\n",
    "print(f'Value: {my_bool}')\n",
    "print(f'Type: {type(my_bool)}')\n",
    "print(f'Value: {my_other_bool}')\n",
    "print(f'Type: {type(my_other_bool)}')"
   ]
  },
  {
   "cell_type": "markdown",
   "id": "14c2df6a",
   "metadata": {},
   "source": []
  },
  {
   "cell_type": "code",
   "execution_count": 4,
   "id": "faf8adba",
   "metadata": {},
   "outputs": [
    {
     "name": "stdout",
     "output_type": "stream",
     "text": [
      "Value: This is a string with single quotes.\n",
      "Type: <class 'str'>\n",
      "Value: Don't use apostrophes in single-quote strings.\n",
      "Type: <class 'str'>\n"
     ]
    }
   ],
   "source": [
    "# strings\n",
    "my_string = 'This is a string with single quotes.'\n",
    "my_other_string = \"Don't use apostrophes in single-quote strings.\"\n",
    "print(f'Value: {my_string}')\n",
    "print(f'Type: {type(my_string)}')\n",
    "print(f'Value: {my_other_string}')\n",
    "print(f'Type: {type(my_other_string)}')"
   ]
  },
  {
   "cell_type": "markdown",
   "id": "b24c84bf",
   "metadata": {},
   "source": []
  }
 ],
 "metadata": {
  "kernelspec": {
   "display_name": "Python 3 (ipykernel)",
   "language": "python",
   "name": "python3"
  },
  "language_info": {
   "codemirror_mode": {
    "name": "ipython",
    "version": 3
   },
   "file_extension": ".py",
   "mimetype": "text/x-python",
   "name": "python",
   "nbconvert_exporter": "python",
   "pygments_lexer": "ipython3",
   "version": "3.8.11"
  }
 },
 "nbformat": 4,
 "nbformat_minor": 5
}
