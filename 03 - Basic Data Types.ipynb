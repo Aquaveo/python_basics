{
 "cells": [
  {
   "cell_type": "markdown",
   "id": "43117e6c",
   "metadata": {},
   "source": [
    "# Basic Data Types\n",
    "\n",
    "A **variable** can be thought of as a container for storing data. There are different types of data that variables can store. In some programming langauges it is necessary to declare whate type of data a variable will hold. Python is **duck typed** meaning the type of a variable is automatically determined based on the value you assign to it. \n",
    "\n",
    "Python includes a built-in function called `type` that can be used to determine the type of data that is stored in a variable. This tutorial will introduce you to three basic data types supported in Python: numbers, booleans, strings.\n",
    "\n",
    "## Assignment\n",
    "\n",
    "The `=` character, the assignment operator, is used to assign values to variables like so:\n",
    "\n",
    "```\n",
    "<variable_name> = <value>\n",
    "```\n"
   ]
  },
  {
   "cell_type": "code",
   "execution_count": null,
   "id": "af19dc7a",
   "metadata": {},
   "outputs": [],
   "source": [
    "# Assign values to variables using the assignment operator: \"=\"\n",
    "age = 25"
   ]
  },
  {
   "cell_type": "markdown",
   "id": "178d02ab",
   "metadata": {},
   "source": [
    "## Numbers\n",
    "\n",
    "Python supports two different types of numbers: integers and floating point numbers.\n",
    "\n",
    "### Integers\n",
    "\n",
    "Integer or `int` variables are used to store whole number data such as the number of fish in a lake or the year of the last global pandemic. Create a variable containing an integer number by assigning a whole number to it:"
   ]
  },
  {
   "cell_type": "code",
   "execution_count": null,
   "id": "1453ee75",
   "metadata": {},
   "outputs": [],
   "source": [
    "# integer\n",
    "covid_year = 2019\n",
    "\n",
    "# note: we'll talk about this strange f'' syntax in a future tutorial, so don't stress it\n",
    "print(f'Value: {covid_year}')\n",
    "print(f'Type: {type(covid_year)}')"
   ]
  },
  {
   "cell_type": "markdown",
   "id": "92248820",
   "metadata": {},
   "source": [
    "### Floating Point Numbers\n",
    "\n",
    "Floating point or `float` variables are used to store numbers with decimal points such as the number pi or the current temperature. Create a variable containing a floating point number by assigning a decimal number to it:"
   ]
  },
  {
   "cell_type": "code",
   "execution_count": null,
   "id": "3102cd44",
   "metadata": {},
   "outputs": [],
   "source": [
    "# floating point number\n",
    "pi = 3.14159265359\n",
    "print(f'Value: {pi}')\n",
    "print(f'Type: {type(pi)}')"
   ]
  },
  {
   "cell_type": "markdown",
   "id": "415e79d6",
   "metadata": {},
   "source": [
    "## Boolean"
   ]
  },
  {
   "cell_type": "code",
   "execution_count": null,
   "id": "174959d3",
   "metadata": {},
   "outputs": [],
   "source": [
    "# boolean\n",
    "my_bool = True\n",
    "my_other_bool = False\n",
    "\n",
    "print(f'Value: {my_bool}')\n",
    "print(f'Type: {type(my_bool)}')\n",
    "print(f'Value: {my_other_bool}')\n",
    "print(f'Type: {type(my_other_bool)}')"
   ]
  },
  {
   "cell_type": "markdown",
   "id": "14c2df6a",
   "metadata": {},
   "source": [
    "## String"
   ]
  },
  {
   "cell_type": "code",
   "execution_count": null,
   "id": "faf8adba",
   "metadata": {},
   "outputs": [],
   "source": [
    "# strings\n",
    "my_string = 'This is a string with single quotes.'\n",
    "my_other_string = \"Don't use apostrophes in single-quote strings.\"\n",
    "print(f'Value: {my_string}')\n",
    "print(f'Type: {type(my_string)}')\n",
    "print(f'Value: {my_other_string}')\n",
    "print(f'Type: {type(my_other_string)}')"
   ]
  },
  {
   "cell_type": "markdown",
   "id": "07bbb22e",
   "metadata": {},
   "source": [
    "## None\n",
    "\n",
    "`None` is a special value that can be assigned to variables to denote that there is no value, similar to null in other languages. For example, `None` can be used as a default value for a variable that may or may not get set in a program."
   ]
  },
  {
   "cell_type": "code",
   "execution_count": null,
   "id": "f2bb017b",
   "metadata": {},
   "outputs": [],
   "source": [
    "no_value = None\n",
    "\n",
    "print(f'Value: {no_value}')\n",
    "print(f'Type: {type(no_value)}')"
   ]
  },
  {
   "cell_type": "markdown",
   "id": "9361920a",
   "metadata": {},
   "source": [
    "# Exercise\n",
    "\n",
    "Replace the `None` value with a value of the appropriate type for each variable as indicated in the comments. Don't worry about the code following the variable assignment lines, it just checks that you have assigned the value appropriately."
   ]
  },
  {
   "cell_type": "code",
   "execution_count": null,
   "id": "851bf1fd",
   "metadata": {},
   "outputs": [],
   "source": [
    "# Assign an integer number value to the my_int variable\n",
    "my_int = None\n",
    "\n",
    "# Assign a floating point number value to the my_float variable\n",
    "my_float = None\n",
    "\n",
    "# Assign a string value to the my_string variable\n",
    "my_string = None\n",
    "\n",
    "# Assign a boolean value to the my_bool variable\n",
    "my_bool = None\n",
    "\n",
    "\n",
    "\n",
    "\n",
    "# Don't worry about the code after this line, it just checks your answers\n",
    "has_errors = False\n",
    "if my_int is None or not isinstance(my_int, int):\n",
    "    has_errors = True\n",
    "    print(f\"I'm sorry, but {my_int} is not an integer number value. Please try again.\")\n",
    "\n",
    "if my_float is None or not isinstance(my_float, float):\n",
    "    has_errors = True\n",
    "    print(f\"I'm sorry, but {my_float} is not a floating point number value. Please try again.\")\n",
    "\n",
    "if my_string is None or not isinstance(my_string, str):\n",
    "    has_errors = True\n",
    "    print(f\"I'm sorry, but {my_string} is not a string value. Please try again.\")\n",
    "\n",
    "if my_bool is None or not isinstance(my_bool, bool):\n",
    "    has_errors = True\n",
    "    print(f\"I'm sorry, but {my_bool} is not a boolean value. Please try again.\")\n",
    "\n",
    "if not has_errors:\n",
    "    print(\"Congratulations! You used the correct types for all variables!\")\n"
   ]
  },
  {
   "cell_type": "code",
   "execution_count": null,
   "id": "dd5942e2",
   "metadata": {},
   "outputs": [],
   "source": []
  }
 ],
 "metadata": {
  "kernelspec": {
   "display_name": "Python 3 (ipykernel)",
   "language": "python",
   "name": "python3"
  },
  "language_info": {
   "codemirror_mode": {
    "name": "ipython",
    "version": 3
   },
   "file_extension": ".py",
   "mimetype": "text/x-python",
   "name": "python",
   "nbconvert_exporter": "python",
   "pygments_lexer": "ipython3",
   "version": "3.8.11"
  }
 },
 "nbformat": 4,
 "nbformat_minor": 5
}
