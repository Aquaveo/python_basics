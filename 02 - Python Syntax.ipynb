{
 "cells": [
  {
   "cell_type": "markdown",
   "id": "1127e712",
   "metadata": {},
   "source": [
    "# Python Syntax\n",
    "\n",
    "Syntax refers to the rules that define how code should be written and structured for a particular language. This is similar to how different written languages have different grammar rules. Every programming language has different rules and Python is different than most in a few important ways.\n",
    "\n",
    "## Indentation\n",
    "\n",
    "The biggest difference between Python and many other programming languages is its use of indentation. In most other programming languages spaces are only used for readabilty and do not affect the operation of the code. However, in Python, indentation is important because it marks different sections of the code called **scope**.\n",
    "\n",
    "Scope can be denoted in Python using either a tab or four spaces, but four spaces is recommended. Whichever you choose, it is important to be consistent. *Don't mix tabs and spaces in a Python program*."
   ]
  },
  {
   "cell_type": "code",
   "execution_count": null,
   "id": "6745fc80",
   "metadata": {},
   "outputs": [],
   "source": [
    "i_like_python = True\n",
    "\n",
    "# 4-spaces are used to differentiate the \"then\" part of an \"if\" statement\n",
    "if i_like_python:\n",
    "    print(\"I like Python!\")\n",
    "\n",
    "# This line is not part of the \"if\" statement b/c it is not indented at the same level\n",
    "print(\"I'll only use spaces!\")"
   ]
  }
 ],
 "metadata": {
  "kernelspec": {
   "display_name": "Python 3 (ipykernel)",
   "language": "python",
   "name": "python3"
  },
  "language_info": {
   "codemirror_mode": {
    "name": "ipython",
    "version": 3
   },
   "file_extension": ".py",
   "mimetype": "text/x-python",
   "name": "python",
   "nbconvert_exporter": "python",
   "pygments_lexer": "ipython3",
   "version": "3.8.11"
  }
 },
 "nbformat": 4,
 "nbformat_minor": 5
}
