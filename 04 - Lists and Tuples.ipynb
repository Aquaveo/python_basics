{
 "cells": [
  {
   "cell_type": "markdown",
   "id": "2e7af192",
   "metadata": {},
   "source": [
    "# Lists\n",
    "\n",
    "A `list` in Python is similar to an array in other programming languages. As its name implies, it can be used to store a list of values. A `list` can be created using square brackets `[]` or the `list` function like so:"
   ]
  },
  {
   "cell_type": "code",
   "execution_count": null,
   "id": "5e77424e",
   "metadata": {},
   "outputs": [],
   "source": [
    "# The list function can be used to define a list\n",
    "odd_numbers = list([3, 5, 7, 9])\n",
    "\n",
    "# Square brackets can be used as a short-hand for defining lists\n",
    "even_numbers = [2, 4, 6, 8]\n",
    "\n",
    "print(f'Some even numbers: {even_numbers}')\n",
    "print(f'Some odd numbers: {odd_numbers}')"
   ]
  },
  {
   "cell_type": "markdown",
   "id": "049fc076",
   "metadata": {},
   "source": [
    "A `list` can store any Python object and it can contain items with different types of data."
   ]
  },
  {
   "cell_type": "code",
   "execution_count": null,
   "id": "2180dc13",
   "metadata": {},
   "outputs": [],
   "source": [
    "# Lists can store strings\n",
    "names = [\"John\", \"Jacob\", \"Jingleheimer\", \"Schmidt\"]\n",
    "\n",
    "# Lists can contain items of mixed types\n",
    "mixed_types = [\"One\", 1, 1.0, True, None]\n",
    "\n",
    "print(f'Full Name: {names}')\n",
    "print(f'Ones: {mixed_types}')"
   ]
  },
  {
   "cell_type": "markdown",
   "id": "befc6553",
   "metadata": {},
   "source": [
    "Individual items can be accessed in a `list` using integer indexes to refer to their positions as follows:"
   ]
  },
  {
   "cell_type": "code",
   "execution_count": null,
   "id": "494b512a",
   "metadata": {
    "scrolled": true
   },
   "outputs": [],
   "source": [
    "letters = ['A', 'B', 'C']\n",
    "\n",
    "# The first item in a list is at index 0\n",
    "print(f'The first letter is: {letters[0]}')\n",
    "\n",
    "# The second item in a list is at index 1\n",
    "print(f'The second letter is: {letters[1]}')\n",
    "\n",
    "# And so on...\n",
    "print(f'The third letter is: {letters[2]}')\n"
   ]
  },
  {
   "cell_type": "markdown",
   "id": "b395134d",
   "metadata": {},
   "source": [
    "Negative indexes can be used to access values from the end of a list, where `-1` will return the last value, `-2` the second to the last value, and so on:"
   ]
  },
  {
   "cell_type": "code",
   "execution_count": null,
   "id": "87954c1f",
   "metadata": {},
   "outputs": [],
   "source": [
    "letters = ['X', 'Y', 'Z']\n",
    "\n",
    "# The last item in a list is at index -1\n",
    "print(f'The last letter is: {letters[-1]}')\n",
    "\n",
    "# The second-to-last item is at index -2\n",
    "print(f'The second-to-last letter is: {letters[-2]}')\n",
    "\n",
    "# And so on...\n",
    "print(f'The third-to-last letter is: {letters[-3]}')"
   ]
  },
  {
   "cell_type": "markdown",
   "id": "14d6c16e",
   "metadata": {},
   "source": [
    "Values in a `list` can be overwritten using using the index of the item and the assigment operator (`=`):"
   ]
  },
  {
   "cell_type": "code",
   "execution_count": null,
   "id": "716d9718",
   "metadata": {},
   "outputs": [],
   "source": [
    "animals = ['cow', 'dog', 'fish']\n",
    "\n",
    "animals[0] = 'cat'\n",
    "print(animals)"
   ]
  },
  {
   "cell_type": "markdown",
   "id": "6db72736",
   "metadata": {},
   "source": [
    "Python lists are mutable, meaning the that they can be changed. Items can be added to a `list` using the `append` and `insert` methods and items can be removed using the `remove` method:"
   ]
  },
  {
   "cell_type": "code",
   "execution_count": null,
   "id": "a017c2b0",
   "metadata": {},
   "outputs": [],
   "source": [
    "change_me = [1, 2, 3, 4]\n",
    "print(f'Initial: {change_me}')\n",
    "\n",
    "# Append 5 to end\n",
    "change_me.append(5)\n",
    "print(f'Append 5 to end: {change_me}')\n",
    "\n",
    "# Insert 2.5 between 2 and 3 (i.e. after index 2)\n",
    "change_me.insert(2, 2.5)\n",
    "print(f'Insert 2.5 between 2 and 3: {change_me}')\n",
    "\n",
    "# Remove the item with value of 2.5\n",
    "change_me.remove(2.5)\n",
    "print(f'Remove item with value of 2.5: {change_me}')"
   ]
  },
  {
   "cell_type": "markdown",
   "id": "8307f7cc",
   "metadata": {},
   "source": [
    "# Tuples\n",
    "\n",
    "A `tuple` is similar to a `list`, but it can't be edited. The advantage of using a `tuple` is that it can be much more efficient than a `list`. Tuples are created like lists using either the `tuple` function or parenthesis like so:"
   ]
  },
  {
   "cell_type": "code",
   "execution_count": null,
   "id": "b540b0a8",
   "metadata": {},
   "outputs": [],
   "source": [
    "# Create a tuple using the tuple function\n",
    "states = tuple(('Ohio', 'New York', 'California'))\n",
    "\n",
    "# Or create a tuple using the shorthand\n",
    "cities = ('Chicago', 'New York', 'Los Angeles')\n",
    "\n",
    "print(f'States: {states}')\n",
    "print(f'Cities: {cities}')\n",
    "\n",
    "# A tuple with one item must have a comma in it like so\n",
    "capitols = ('Washington D.C.',)\n",
    "print(f'Capitols: {capitols}')"
   ]
  },
  {
   "cell_type": "markdown",
   "id": "a8e07e86",
   "metadata": {},
   "source": [
    "Just as with lists, items in tuples can be accessed using index notation:"
   ]
  },
  {
   "cell_type": "code",
   "execution_count": null,
   "id": "bfc01f74",
   "metadata": {},
   "outputs": [],
   "source": [
    "plants = ('tree', 'bush', 'flower')\n",
    "print(f'Item 3: {plants[2]}')"
   ]
  },
  {
   "cell_type": "markdown",
   "id": "6be0aec6",
   "metadata": {},
   "source": [
    "But the items cannot be overwritten and items cannot be added or removed from tuples. Attempting to do so will result in an error."
   ]
  },
  {
   "cell_type": "code",
   "execution_count": null,
   "id": "9d570f99",
   "metadata": {},
   "outputs": [],
   "source": [
    "# Trying to overwrite a value in a tuple will THROW AN ERROR\n",
    "sea_creatures = ('fish', 'dolphin', 'shark')\n",
    "\n",
    "sea_creatures[2] = 'whale'\n"
   ]
  },
  {
   "cell_type": "markdown",
   "id": "3d55e3ce",
   "metadata": {},
   "source": [
    "# Exercise"
   ]
  },
  {
   "cell_type": "code",
   "execution_count": null,
   "id": "092c7914",
   "metadata": {},
   "outputs": [],
   "source": [
    "planets = ['Mercury', 'Venus', 'Mars', 'Jupiter', 'Saturn', 'Neptune', 'Uranus', 'Pluto']\n",
    "\n",
    "# Write code here to add Earth to the list of planets in the correct position (between Venus and Mars)\n",
    "\n",
    "\n",
    "# Write code here to remove Pluto from the list of planets\n",
    "\n",
    "\n",
    "# This code checks the answer\n",
    "if 'Earth' not in planets:\n",
    "    print(f\"Can't find Earth in the list of planets: {planets}\")\n",
    "\n",
    "elif planets.index('Earth') != 2:\n",
    "    print(f\"Found Earth in the list, but it isn't in the right position: {planets}\")\n",
    "\n",
    "elif 'Pluto' in planets:\n",
    "    print(f\"Found Pluto in the list, it needs to be removed: {planets}\")\n",
    "\n",
    "else:\n",
    "    print(f\"You did it! The planets in our solar system are: {', '.join(planets)}\")\n"
   ]
  }
 ],
 "metadata": {
  "kernelspec": {
   "display_name": "Python 3 (ipykernel)",
   "language": "python",
   "name": "python3"
  },
  "language_info": {
   "codemirror_mode": {
    "name": "ipython",
    "version": 3
   },
   "file_extension": ".py",
   "mimetype": "text/x-python",
   "name": "python",
   "nbconvert_exporter": "python",
   "pygments_lexer": "ipython3",
   "version": "3.8.11"
  }
 },
 "nbformat": 4,
 "nbformat_minor": 5
}
